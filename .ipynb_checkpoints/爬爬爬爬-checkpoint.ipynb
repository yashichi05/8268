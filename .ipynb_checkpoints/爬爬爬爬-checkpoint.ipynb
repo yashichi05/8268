{
 "cells": [
  {
   "cell_type": "code",
   "execution_count": null,
   "metadata": {},
   "outputs": [],
   "source": [
    "from selenium import webdriver\n",
    "import time\n",
    "\n",
    "options = webdriver.ChromeOptions() #新增選項\n",
    "chromeDriver = webdriver.Chrome(chrome_options=options)\n",
    "chromeDriver.get('https://8268.com.tw/login.php')\n",
    "chromeDriver.find_elements_by_class_name(\"flex2\")[0].send_keys(\"daiyi1200@gmail.com\")\n",
    "chromeDriver.find_elements_by_class_name(\"flex2\")[1].send_keys(\"dy072507\")\n",
    "text = chromeDriver.find_elements_by_class_name(\"flex2\")[2].text\n",
    "chromeDriver.find_elements_by_class_name(\"flex1\")[8].send_keys(text)\n",
    "chromeDriver.find_elements_by_id(\"searchbutton\")[0].click()\n",
    "time.sleep(2)\n",
    "chromeDriver.switch_to.alert.accept() #切換到彈出視窗 並按確定\n",
    "chromeDriver.get('https://8268.com.tw/')\n",
    "cookie_login = {'PHPSESSID' : chromeDriver.get_cookies()[0]['value']} #獲取COOKIE request 用\n",
    "chromeDriver.quit()\n",
    "\n"
   ]
  },
  {
   "cell_type": "code",
   "execution_count": 267,
   "metadata": {},
   "outputs": [],
   "source": [
    "\n",
    "import requests\n",
    "from bs4 import BeautifulSoup\n",
    "import xlwt\n",
    "\n",
    "nwb = xlwt.Workbook() #新增EXCEL\n",
    "nsheet = nwb.add_sheet('官網商品資料') #新SHEET\n",
    "write_row = 1 #EXCEL 列數\n",
    "nsheet.col(1).width = 100*256\n",
    "nsheet.write(0,0,'ID')\n",
    "nsheet.write(0,1,'品名')\n",
    "nsheet.write(0,2,'價格')\n",
    "nsheet.write(0,3,'庫存')\n",
    "\n",
    "url = 'https://8268.com.tw/product_preorder.php'\n",
    "my_headers = {'user-agent': 'Mozilla/5.0 (Windows NT 10.0; Win64; x64) AppleWebKit/537.36 (KHTML, like Gecko) Chrome/68.0.3440.106 Safari/537.36'}\n",
    "\n",
    "WebSession = requests.Session()\n",
    "result = WebSession.get(url,headers = my_headers,cookies=cookie_login)\n",
    "soup = BeautifulSoup(result.text, \"html.parser\") #第一次訪問\n",
    "\n",
    "for i in soup.select(\".product-sort\")[1].select('li'):  #分類迴圈\n",
    "    link = 'https://8268.com.tw'+i.select('a')[0]['href'][1:] #商品分類網址\n",
    "    sort_result = WebSession.get(link,headers = my_headers,cookies=cookie_login)  #訪問分頁網址\n",
    "    sort_soup = BeautifulSoup(sort_result.text, \"html.parser\") #第二次訪問\n",
    "    try:\n",
    "        page_num = int(sort_soup.select('.pager li a')[-1]['href'].split(\"=\")[-1]) #取得分類頁數\n",
    "    except:#如果錯誤，代表只有一頁\n",
    "        page_num = 1 \n",
    "    for page in range(1,page_num+1): #頁數迴圈\n",
    "        \n",
    "        page_result = WebSession.get(link+'?page_num='+str(page),headers = my_headers,cookies=cookie_login) #瀏覽內頁\n",
    "        page_soup = BeautifulSoup(page_result.text, \"html.parser\")#第三次訪問\n",
    "\n",
    "        for ii in page_soup.select('.product_name'): #搜尋產品名迴圈\n",
    "            try: #有些沒ID 則'無權限'\n",
    "                nsheet.write(write_row,0,ii['href'].split(\"=\")[1].split(\"&\")[0])\n",
    "            except:\n",
    "                nsheet.write(write_row,0,'無權限')\n",
    "                \n",
    "            nsheet.write(write_row,1,ii.text)\n",
    "            nsheet.write(write_row,2,ii.find_next_siblings('div')[1].text.replace(\"$\",\"\"))\n",
    "            nsheet.write(write_row,3,ii.find_next_sibling('div').text.replace(\"庫存：\",\"\"))\n",
    "            write_row += 1 #EXCEL下一列\n",
    "            \n",
    "\n",
    "nwb.save('result.xls')\n"
   ]
  },
  {
   "cell_type": "code",
   "execution_count": 266,
   "metadata": {},
   "outputs": [
    {
     "data": {
      "text/plain": [
       "'5'"
      ]
     },
     "execution_count": 266,
     "metadata": {},
     "output_type": "execute_result"
    }
   ],
   "source": [
    "result = WebSession.get('https://8268.com.tw/product-list.php?cid=21',headers = my_headers,cookies=cookie_login)\n",
    "soup = BeautifulSoup(result.text, \"html.parser\") #第一次訪問\n",
    "soup.select('.product_name')[19].find_next_sibling('div').text.replace(\"庫存：\",\"\")\n"
   ]
  },
  {
   "cell_type": "code",
   "execution_count": null,
   "metadata": {},
   "outputs": [],
   "source": [
    "\n"
   ]
  },
  {
   "cell_type": "code",
   "execution_count": null,
   "metadata": {},
   "outputs": [],
   "source": []
  },
  {
   "cell_type": "code",
   "execution_count": null,
   "metadata": {},
   "outputs": [],
   "source": []
  },
  {
   "cell_type": "code",
   "execution_count": null,
   "metadata": {},
   "outputs": [],
   "source": []
  }
 ],
 "metadata": {
  "kernelspec": {
   "display_name": "Python 3",
   "language": "python",
   "name": "python3"
  },
  "language_info": {
   "codemirror_mode": {
    "name": "ipython",
    "version": 3
   },
   "file_extension": ".py",
   "mimetype": "text/x-python",
   "name": "python",
   "nbconvert_exporter": "python",
   "pygments_lexer": "ipython3",
   "version": "3.6.4"
  }
 },
 "nbformat": 4,
 "nbformat_minor": 2
}
