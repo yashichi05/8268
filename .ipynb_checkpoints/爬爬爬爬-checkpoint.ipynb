{
 "cells": [
  {
   "cell_type": "code",
   "execution_count": null,
   "metadata": {},
   "outputs": [],
   "source": []
  },
  {
   "cell_type": "code",
   "execution_count": null,
   "metadata": {},
   "outputs": [],
   "source": [
    "\n",
    "import requests\n",
    "from bs4 import BeautifulSoup\n",
    "from selenium import webdriver\n",
    "import time\n",
    "import selenium.webdriver.support.ui as ui\n",
    "from selenium.webdriver.common.keys import Keys\n",
    "from selenium.webdriver.common.action_chains import ActionChains\n",
    "from selenium.webdriver.support import expected_conditions as EC\n",
    "\n",
    "def detect_edit(): #偵測是否已新增符號\n",
    "    ui.WebDriverWait(chromeDriver, 15).until(lambda chromeDriver: chromeDriver.find_element_by_tag_name('tbody'))\n",
    "    for ii in chromeDriver.find_elements_by_tag_name('tr'):\n",
    "        for i in ii.find_elements_by_tag_name('td'):\n",
    "            if i.get_attribute(\"title\") == '售價1':\n",
    "                #如果價格>1 名稱尾部沒有☮\n",
    "                if float(i.text ) > 1 and ii.find_elements_by_tag_name('td')[5].text[-1] != \"☮\":\n",
    "                    for iii in ii.find_elements_by_tag_name('img'):\n",
    "                        if iii.get_attribute('alt') == '修改': #點修改\n",
    "                            iii.click()\n",
    "                            edit_title()\n",
    "                            return\n",
    "    next_page()\n",
    "                    \n",
    "def edit_title(): #新增符號並返回\n",
    "    #等待內容出現\n",
    "    ui.WebDriverWait(chromeDriver, 15).until(lambda chromeDriver: chromeDriver.find_element_by_id('name'))\n",
    "    chromeDriver.find_element_by_id('name').send_keys('☮')\n",
    "    chromeDriver.find_element_by_id('enter').click()\n",
    "    ui.WebDriverWait(chromeDriver, 15).until(EC.alert_is_present()) #偵測警告視窗彈出\n",
    "    chromeDriver.switch_to.alert.accept()\n",
    "    chromeDriver.find_element_by_class_name('float-center').click() #返回\n",
    "    detect_edit()\n",
    "\n",
    "def next_page(): #下一頁\n",
    "    #等待內容出現\n",
    "    ui.WebDriverWait(chromeDriver, 15).until(lambda chromeDriver: chromeDriver.find_element_by_tag_name('tbody'))\n",
    "    for i in chromeDriver.find_elements_by_tag_name('li'):\n",
    "        if i.find_element_by_tag_name('a').get_attribute(\"title\") == '下一頁':\n",
    "            i.find_element_by_tag_name('a').click()\n",
    "            detect_edit()\n",
    "            \n",
    "def login(): #登入\n",
    "    url = 'https://8268.com.tw/ctrl/ajax/ajax_login.php'\n",
    "    post_data = {'login_id': 'ast011','login_pwd': '830011','exec': 'login'}\n",
    "    WebSession = requests.Session()\n",
    "    WebSession.post(url,data = post_data) #傳送登入資料\n",
    "    WebSession.get('https://8268.com.tw/ctrl/') #確定登入\n",
    "    result = WebSession.get('https://8268.com.tw/ctrl/products.php?page=product_all') #第一次訪問\n",
    "    soup = BeautifulSoup(result.text, \"html.parser\")    \n",
    "    for i,ii in WebSession.cookies.get_dict().items():\n",
    "        chromeDriver.add_cookie({'name':i, 'value':ii})\n",
    "    chromeDriver.get('https://8268.com.tw/ctrl/products.php?page=product_all')\n",
    "    #等待頁面讀取完\n",
    "    ui.WebDriverWait(chromeDriver, 15).until(lambda chromeDriver: chromeDriver.find_element_by_tag_name('table'))\n",
    "    #點選\"搜尋\"\n",
    "    if chromeDriver.find_elements_by_name('form_button')[0].text == '搜尋商品':\n",
    "        chromeDriver.find_elements_by_name('form_button')[0].click()\n",
    "    #等待內容出現\n",
    "    target_ele = ui.WebDriverWait(chromeDriver, 15).until(lambda chromeDriver: chromeDriver.find_element_by_tag_name('tbody'))\n",
    "            \n",
    "\n",
    "\n",
    "options = webdriver.ChromeOptions() #新增選項\n",
    "chromeDriver = webdriver.Chrome(chrome_options=options)\n",
    "chromeDriver.get('https://8268.com.tw/ctrl/')\n",
    "login()\n",
    "\n",
    "\n"
   ]
  },
  {
   "cell_type": "code",
   "execution_count": null,
   "metadata": {},
   "outputs": [],
   "source": [
    "detect_edit() "
   ]
  },
  {
   "cell_type": "code",
   "execution_count": null,
   "metadata": {},
   "outputs": [],
   "source": [
    "login()"
   ]
  },
  {
   "cell_type": "code",
   "execution_count": null,
   "metadata": {},
   "outputs": [],
   "source": []
  },
  {
   "cell_type": "code",
   "execution_count": null,
   "metadata": {},
   "outputs": [],
   "source": [
    "#商品總表輸出(有貨號才輸出)\n",
    "import xlwt\n",
    "chromeDriver.get('https://8268.com.tw/ctrl/products.php?page=product_all&name=&p_star=&p_hidd=&S_date=&E_date=&start_date=&end_date=&s_cid=&s_sid=&s_tid=&page_max_size=4000&p_stock=&havepreorder=&search_sort=&search=1&type=search_data&page_num=1')\n",
    "target_ele = ui.WebDriverWait(chromeDriver, 15).until(lambda chromeDriver: chromeDriver.find_element_by_tag_name('tbody'))\n",
    "\n",
    "nwb = xlwt.Workbook()# 新增EXCEL\n",
    "nsheet = nwb.add_sheet('官網商品總表')#新SHEET\n",
    "nsheet.write(0,0,'ID')\n",
    "nsheet.write(0,1,'貨號')\n",
    "nsheet.write(0,2,'名稱')\n",
    "write_row = 1\n",
    "for i in chromeDriver.find_elements_by_tag_name('tr'):\n",
    "    try:\n",
    "        text = i.find_elements_by_tag_name('td')[9].text#貨號\n",
    "        \n",
    "        if text:#有貨號\n",
    "            prd_id = i.get_attribute(\"id\").replace('tr_id','')\n",
    "            title = i.find_elements_by_tag_name('td')[5].text\n",
    "            nsheet.write(write_row,0,prd_id)\n",
    "            nsheet.write(write_row,1,text)\n",
    "            nsheet.write(write_row,2,title)\n",
    "            write_row += 1\n",
    "    except:\n",
    "        pass\n",
    "nwb.save(r'C:\\Users\\Owner\\Desktop\\官網商品總表.xls')"
   ]
  },
  {
   "cell_type": "code",
   "execution_count": null,
   "metadata": {},
   "outputs": [],
   "source": []
  },
  {
   "cell_type": "code",
   "execution_count": null,
   "metadata": {},
   "outputs": [],
   "source": []
  },
  {
   "cell_type": "code",
   "execution_count": null,
   "metadata": {},
   "outputs": [],
   "source": []
  },
  {
   "cell_type": "code",
   "execution_count": null,
   "metadata": {},
   "outputs": [],
   "source": []
  }
 ],
 "metadata": {
  "kernelspec": {
   "display_name": "Python 3",
   "language": "python",
   "name": "python3"
  }
 },
 "nbformat": 4,
 "nbformat_minor": 2
}
