{
 "cells": [
  {
   "cell_type": "code",
   "execution_count": 1,
   "metadata": {},
   "outputs": [
    {
     "name": "stdout",
     "output_type": "stream",
     "text": [
      "Using matplotlib backend: Qt5Agg\n"
     ]
    }
   ],
   "source": [
    "import os\n",
    "import comtypes.client\n",
    "from IPython.display import clear_output\n",
    "m2 = comtypes.client.GetModule(r'C:\\Users\\Owner\\Downloads\\stock_analyze\\SKCOM.dll') #加此行需將API放與py同目錄\n",
    "import comtypes.gen.SKCOMLib as sk\n",
    "skC = comtypes.client.CreateObject(sk.SKCenterLib,interface=sk.ISKCenterLib)\n",
    "skOOQ = comtypes.client.CreateObject(sk.SKOOQuoteLib,interface=sk.ISKOOQuoteLib)\n",
    "skO = comtypes.client.CreateObject(sk.SKOrderLib,interface=sk.ISKOrderLib)\n",
    "skOSQ = comtypes.client.CreateObject(sk.SKOSQuoteLib,interface=sk.ISKOSQuoteLib)\n",
    "skQ = comtypes.client.CreateObject(sk.SKQuoteLib,interface=sk.ISKQuoteLib)\n",
    "skR = comtypes.client.CreateObject(sk.SKReplyLib,interface=sk.ISKReplyLib)\n",
    "import math\n",
    "import Config\n",
    "import tkinter as tk\n",
    "import time\n",
    "import pythoncom\n",
    "import matplotlib.pyplot as plt\n",
    "%matplotlib auto\n",
    "\n",
    "def buttonLogin_Click():\n",
    "    try:\n",
    "        skC.SKCenterLib_SetLogPath(r\"C:\\Users\\Owner\\Downloads\\stock_analyze\\CapitalLog_Quote\")\n",
    "        m_nCode = skC.SKCenterLib_Login(\"S124594630\",\"h05h05h05\")\n",
    "        if(m_nCode==0):\n",
    "            print(\"登入成功\")\n",
    "        else:\n",
    "            print(\"登入失敗code:\" + str(m_nCode))\n",
    "    except Exception as e:\n",
    "        print(\"error！\",e)\n",
    "\n",
    "def btnConnect_Click():\n",
    "    try:\n",
    "        m_nCode = skQ.SKQuoteLib_EnterMonitor()\n",
    "        print(\"Quote\", m_nCode, \"SKQuoteLib_EnterMonitor\",skC.SKCenterLib_GetReturnCodeMessage(m_nCode))\n",
    "    except Exception as e:\n",
    "        print(\"error！\",e)\n",
    "\n",
    "def btnDisconnect_Click():\n",
    "    try:\n",
    "        m_nCode = skQ.SKQuoteLib_LeaveMonitor()\n",
    "        if (m_nCode != 0):\n",
    "            strMsg = \"SKQuoteLib_LeaveMonitor failed!\", skC.SKCenterLib_GetReturnCodeMessage(m_nCode)\n",
    "            print(strMsg)\n",
    "        else:\n",
    "            print(\"Quote\", m_nCode, \"SKQuoteLib_LeaveMonitor\")\n",
    "    except Exception as e:\n",
    "        print(\"error！\",e)\n",
    "\n",
    "\n",
    "\n",
    "def btnTick_Click(pn,stock_code):\n",
    "    try:\n",
    "        skQ.SKQuoteLib_RequestTicks(pn,str(stock_code))\n",
    "    except Exception as e:\n",
    "        print(\"error！\",e)\n",
    "\n",
    "def btnLiveTick_Click(pn,stock_code):\n",
    "    try:\n",
    "        skQ.SKQuoteLib_RequestLiveTick(pn,str(stock_code))\n",
    "\n",
    "    except Exception as e:\n",
    "        print(\"error！\",e)\n",
    "\n",
    "        \n",
    "global act_TSE\n",
    "global act_00655L\n",
    "act_TSE = 1\n",
    "act_00655L = 1\n",
    "\n",
    "\n",
    "class SKQuoteLibEvents:\n",
    "    def OnConnection(self, nKind, nCode):\n",
    "        if (nKind == 3001):\n",
    "            strMsg = \"Connected!\"\n",
    "        elif (nKind == 3002):\n",
    "            strMsg = \"DisConnected!\"\n",
    "        elif (nKind == 3003):\n",
    "            strMsg = \"Stocks ready!\"\n",
    "        elif (nKind == 3021):\n",
    "            strMsg = \"Connect Error!\"\n",
    "        print(strMsg)\n",
    "\n",
    "    def OnNotifyQuote(self, sMarketNo, sStockidx):\n",
    "        time.sleep(1)\n",
    "        clear_output()\n",
    "        pStock = sk.SKSTOCK()\n",
    "        skQ.SKQuoteLib_GetStockByIndex(sMarketNo, sStockidx, pStock)\n",
    "        strMsg = '代碼:',pStock.bstrStockNo,'--名稱:',pStock.bstrStockName,'--開盤價:',pStock.nOpen/math.pow(10,pStock.sDecimal),'--最高:',pStock.nHigh/math.pow(10,pStock.sDecimal),'--最低:',pStock.nLow/math.pow(10,pStock.sDecimal),'--成交價:',pStock.nClose/math.pow(10,pStock.sDecimal),'--總量:',pStock.nTQty\n",
    "        global act_TSE\n",
    "        global act_00655L\n",
    "        #if pStock.bstrStockNo == \"TSEA\" and act_TSE == 1 and pStock.nClose/math.pow(10,pStock.sDecimal)>11048:\n",
    "            #act_TSE = 0\n",
    "            #print(\"TSE>11048\")\n",
    "        #if pStock.bstrStockNo == \"00655L\" and act_00655L == 1 and pStock.nClose/math.pow(10,pStock.sDecimal)>34.78:\n",
    "            #act_00655L = 0\n",
    "            #print(\"00655L>34.78\")\n",
    "        #close = pStock.nClose/math.pow(10,pStock.sDecimal)\n",
    "        #if pStock.bstrStockNo == \"TSEA\" :\n",
    "        #    print(pStock.bstrStockNo,close)\n",
    "        \n",
    "        #elif pStock.bstrStockNo == \"00655L\" :\n",
    "        #    print(pStock.bstrStockNo,close)\n",
    "            \n",
    "        print(pStock.bstrStockNo,pStock.bstrStockNo,pStock.nClose/math.pow(10,pStock.sDecimal)-10785)\n",
    "\n",
    "    def OnNotifyHistoryTicks(self, sMarketNo, sStockIdx, nPtr, lDate, lTimehms, lTimemillismicros, nBid, nAsk, nClose, nQty, nSimulate):\n",
    "        strMsg = \"[OnNotifyHistoryTicks]\", sStockIdx, nPtr, lDate, lTimehms, lTimemillismicros, nBid, nAsk, nClose, nQty, nSimulate\n",
    "        print(str(lTimehms)[0:2]+\":\"+str(lTimehms)[2:4]+\":\"+str(lTimehms)[4:6],nClose)\n",
    "\n",
    "    def OnNotifyTicks(self,sMarketNo, sStockIdx, nPtr, lDate, lTimehms, lTimemillismicros, nBid, nAsk, nClose, nQty, nSimulate):\n",
    "        strMsg = \"[OnNotifyTicks]\", sStockIdx, nPtr, lDate, lTimehms, lTimemillismicros, nBid, nAsk, nClose, nQty, nSimulate\n",
    "        print(strMsg)\n",
    "\n",
    "    def OnNotifyKLineData(self,bstrStockNo,bstrData):\n",
    "        cutData = bstrData.split(',')\n",
    "        strMsg = bstrStockNo,bstrData\n",
    "        print(strMsg)\n",
    "SKQuoteEvent=SKQuoteLibEvents()\n",
    "SKQuoteLibEventHandler = comtypes.client.GetEvents(skQ, SKQuoteEvent)\n",
    "\n",
    "#btnConnect_Click()\n",
    "#btnLiveTick_Click()\n",
    "#root.mainloop()"
   ]
  },
  {
   "cell_type": "code",
   "execution_count": 2,
   "metadata": {},
   "outputs": [
    {
     "name": "stdout",
     "output_type": "stream",
     "text": [
      "登入成功\n",
      "Quote 0 SKQuoteLib_EnterMonitor SK_SUCCESS\n",
      "Connected!\n",
      "Stocks ready!\n"
     ]
    }
   ],
   "source": [
    "#%matplotlib auto\n",
    "\n",
    "buttonLogin_Click()\n",
    "btnConnect_Click()\n",
    "#btnDisconnect_Click()"
   ]
  },
  {
   "cell_type": "code",
   "execution_count": 6,
   "metadata": {},
   "outputs": [
    {
     "name": "stdout",
     "output_type": "stream",
     "text": [
      "TSEA TSEA 0.5200000000004366\n"
     ]
    }
   ],
   "source": [
    "#skQ.SKQuoteLib_RequestLiveTick(0,\"0050\")\n",
    "#btnLiveTick_Click(0,\"0050\")\n",
    "skQ.SKQuoteLib_RequestStocks(50,\"TSEA\")"
   ]
  },
  {
   "cell_type": "code",
   "execution_count": 5,
   "metadata": {},
   "outputs": [],
   "source": [
    "skQ.SKQuoteLib_RequestLiveTick(0,\"040534\")\n"
   ]
  },
  {
   "cell_type": "code",
   "execution_count": null,
   "metadata": {},
   "outputs": [],
   "source": []
  },
  {
   "cell_type": "code",
   "execution_count": null,
   "metadata": {
    "scrolled": true
   },
   "outputs": [],
   "source": []
  },
  {
   "cell_type": "code",
   "execution_count": 4,
   "metadata": {},
   "outputs": [],
   "source": []
  },
  {
   "cell_type": "code",
   "execution_count": null,
   "metadata": {},
   "outputs": [],
   "source": []
  }
 ],
 "metadata": {
  "kernelspec": {
   "display_name": "Python 3",
   "language": "python",
   "name": "python3"
  },
  "language_info": {
   "codemirror_mode": {
    "name": "ipython",
    "version": 3
   },
   "file_extension": ".py",
   "mimetype": "text/x-python",
   "name": "python",
   "nbconvert_exporter": "python",
   "pygments_lexer": "ipython3",
   "version": "3.6.5"
  }
 },
 "nbformat": 4,
 "nbformat_minor": 2
}
